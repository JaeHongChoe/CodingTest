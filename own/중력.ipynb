{
 "cells": [
  {
   "cell_type": "code",
   "execution_count": 12,
   "id": "ea3c7515",
   "metadata": {},
   "outputs": [
    {
     "name": "stdout",
     "output_type": "stream",
     "text": [
      "기존\n",
      "[0, 1, 0]\n",
      "[1, 0, 1]\n",
      "[0, 1, 0]\n",
      "[0, 0, 1]\n",
      "[0, 1, 0]\n",
      "변화\n",
      "[0, 0, 0]\n",
      "[0, 0, 0]\n",
      "[0, 1, 0]\n",
      "[0, 1, 1]\n",
      "[1, 1, 1]\n"
     ]
    }
   ],
   "source": [
    "arr = [[0, 1, 0], [1, 0, 1], [0, 1, 0], [0, 0, 1], [0, 1, 0]]\n",
    "\n",
    "print(\"기존\")\n",
    "for i in range(len(arr)):\n",
    "    print(arr[i])\n",
    "\n",
    "\n",
    "def gravity():\n",
    "    n = len(arr)\n",
    "    m = len(arr[0])\n",
    "    for i in range(n - 1):\n",
    "        for j in range(m):\n",
    "            p = i\n",
    "            # 현재칸이 아래로 내려갈 수 있다면 그 윗줄도 한 칸 씩 연쇄적으로 내려와야함\n",
    "            while 0 <= p and arr[p][j] == 1 and arr[p + 1][j] == 0:\n",
    "                arr[p][j], arr[p + 1][j] = arr[p + 1][j], arr[p][j]\n",
    "                p -= 1\n",
    "\n",
    "\n",
    "\n",
    "gravity()\n",
    "\n",
    "print(\"변화\")\n",
    "for i in range(len(arr)):\n",
    "    print(arr[i])"
   ]
  },
  {
   "cell_type": "code",
   "execution_count": 23,
   "id": "8bba3af5",
   "metadata": {},
   "outputs": [
    {
     "name": "stdout",
     "output_type": "stream",
     "text": [
      "기존\n",
      "[0, 1, 0]\n",
      "[1, 0, 1]\n",
      "[0, 1, 0]\n",
      "[0, 0, 1]\n",
      "[0, 1, 0]\n",
      "qusghks\n",
      "[0, 1, 0]\n",
      "[1, 1, 1]\n",
      "[1, 1, 1]\n",
      "[1, 1, 1]\n",
      "[1, 1, 1]\n"
     ]
    }
   ],
   "source": [
    "arr = [[0, 1, 0], [1, 0, 1], [0, 1, 0], [0, 0, 1], [0, 1, 0]]\n",
    "\n",
    "print(\"기존\")\n",
    "for i in range(len(arr)):\n",
    "    print(arr[i])\n",
    "    \n",
    "def gravity():\n",
    "    n = len(arr)\n",
    "    m = len(arr[0])\n",
    "    \n",
    "    for i in range(n-1):\n",
    "        for j in range(m):\n",
    "            p = i\n",
    "            while 0<=p and arr[p][j]==1 and arr[p+1][j]==0:\n",
    "#                 arr[p][j] = arr[p+1][j]\n",
    "                arr[p+1][j] = arr[p][j]\n",
    "                p -=1\n",
    "    \n",
    "gravity()\n",
    "print(\"qusghks\")\n",
    "for i in range(len(arr)):\n",
    "    print(arr[i])"
   ]
  },
  {
   "cell_type": "code",
   "execution_count": null,
   "id": "d44b009d",
   "metadata": {},
   "outputs": [],
   "source": []
  }
 ],
 "metadata": {
  "kernelspec": {
   "display_name": "Python 3 (ipykernel)",
   "language": "python",
   "name": "python3"
  },
  "language_info": {
   "codemirror_mode": {
    "name": "ipython",
    "version": 3
   },
   "file_extension": ".py",
   "mimetype": "text/x-python",
   "name": "python",
   "nbconvert_exporter": "python",
   "pygments_lexer": "ipython3",
   "version": "3.9.7"
  }
 },
 "nbformat": 4,
 "nbformat_minor": 5
}
