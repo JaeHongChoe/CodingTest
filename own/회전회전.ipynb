{
 "cells": [
  {
   "cell_type": "markdown",
   "id": "6eecbd47",
   "metadata": {},
   "source": [
    "## 회전~"
   ]
  },
  {
   "cell_type": "code",
   "execution_count": 63,
   "id": "35a2709f",
   "metadata": {},
   "outputs": [
    {
     "name": "stdout",
     "output_type": "stream",
     "text": [
      "[[9, 5, 1], [10, 6, 2], [11, 7, 3], [12, 8, 4]]\n"
     ]
    }
   ],
   "source": [
    "arr = [[1, 2, 3, 4],\n",
    "       [5, 6, 7, 8],\n",
    "       [9, 10, 11, 12]]\n",
    "\n",
    "## zip\n",
    "# 시계 방향 90 (= 반시계 방향 270)\n",
    "arr_90 = list(map(list, zip(*arr[::-1])))\n",
    "print(arr_90)"
   ]
  },
  {
   "cell_type": "code",
   "execution_count": 64,
   "id": "1d1128d6",
   "metadata": {},
   "outputs": [
    {
     "data": {
      "text/plain": [
       "[[9, 5, 1], [10, 6, 2], [11, 7, 3], [12, 8, 4]]"
      ]
     },
     "execution_count": 64,
     "metadata": {},
     "output_type": "execute_result"
    }
   ],
   "source": [
    "list(map(list, zip(*arr[::-1])))"
   ]
  },
  {
   "cell_type": "code",
   "execution_count": 65,
   "id": "c3c93763",
   "metadata": {},
   "outputs": [
    {
     "data": {
      "text/plain": [
       "[[[9, 10, 11, 12]], [[5, 6, 7, 8]], [[1, 2, 3, 4]]]"
      ]
     },
     "execution_count": 65,
     "metadata": {},
     "output_type": "execute_result"
    }
   ],
   "source": [
    "list(map(list, zip(arr[::-1])))"
   ]
  },
  {
   "cell_type": "code",
   "execution_count": 66,
   "id": "d454a450",
   "metadata": {},
   "outputs": [
    {
     "data": {
      "text/plain": [
       "[(1, 5, 9), (2, 6, 10), (3, 7, 11), (4, 8, 12)]"
      ]
     },
     "execution_count": 66,
     "metadata": {},
     "output_type": "execute_result"
    }
   ],
   "source": [
    "list(zip(*arr))"
   ]
  },
  {
   "cell_type": "markdown",
   "id": "b8543864",
   "metadata": {},
   "source": [
    "### 그래서 *랑 언패킹이 뭔디"
   ]
  },
  {
   "cell_type": "code",
   "execution_count": 59,
   "id": "1b7f4966",
   "metadata": {},
   "outputs": [],
   "source": [
    "list1 = [1, 2, 3]\n",
    "list2 = [4, 5, 6]\n"
   ]
  },
  {
   "cell_type": "code",
   "execution_count": 61,
   "id": "49cf1b61",
   "metadata": {},
   "outputs": [
    {
     "name": "stdout",
     "output_type": "stream",
     "text": [
      "[(1, 4), (2, 5), (3, 6)]\n"
     ]
    }
   ],
   "source": [
    "zipped = zip(list1, list2)\n",
    "print(list(zipped))  # 출력: [(1, 4), (2, 5), (3, 6)]\n"
   ]
  },
  {
   "cell_type": "code",
   "execution_count": 62,
   "id": "a5b7824e",
   "metadata": {},
   "outputs": [
    {
     "name": "stdout",
     "output_type": "stream",
     "text": [
      "[(1, 4), (2, 5), (3, 6)]\n"
     ]
    }
   ],
   "source": [
    "lists = [list1, list2]\n",
    "\n",
    "# 언패킹 없이 전달하면\n",
    "zipped = zip(*lists)\n",
    "print(list(zipped))  # 출력: [([1, 2, 3],), ([4, 5, 6],)]\n"
   ]
  },
  {
   "cell_type": "markdown",
   "id": "98a74d28",
   "metadata": {},
   "source": [
    "## 그러면 180도는 2번 동일하게 적용하면 되는거 아닌가?"
   ]
  },
  {
   "cell_type": "code",
   "execution_count": 69,
   "id": "7b0bbd58",
   "metadata": {},
   "outputs": [
    {
     "name": "stdout",
     "output_type": "stream",
     "text": [
      "[[12, 11, 10, 9], [8, 7, 6, 5], [4, 3, 2, 1]]\n"
     ]
    }
   ],
   "source": [
    "arr = [[1, 2, 3, 4],\n",
    "       [5, 6, 7, 8],\n",
    "       [9, 10, 11, 12]]\n",
    "\n",
    "## zip\n",
    "# 시계 방향 90 (= 반시계 방향 270)\n",
    "arr_90 = list(map(list, zip(*arr[::-1])))\n",
    "arr_90 = list(map(list, zip(*arr_90[::-1])))\n",
    "print(arr_90)"
   ]
  },
  {
   "cell_type": "markdown",
   "id": "c309d485",
   "metadata": {},
   "source": [
    "- ? 이게 되네"
   ]
  },
  {
   "cell_type": "code",
   "execution_count": 74,
   "id": "767b8774",
   "metadata": {},
   "outputs": [
    {
     "name": "stdout",
     "output_type": "stream",
     "text": [
      "[[12, 11, 10, 9], [8, 7, 6, 5], [4, 3, 2, 1]]\n"
     ]
    }
   ],
   "source": [
    "arr = [[1, 2, 3, 4],\n",
    "       [5, 6, 7, 8],\n",
    "       [9, 10, 11, 12]]\n",
    "# 시계 방향 180 (= 반시계 방향 180)\n",
    "arr_180 = [a[::-1] for a in arr[::-1]]\n",
    "print(arr_180)"
   ]
  },
  {
   "cell_type": "markdown",
   "id": "1e7c5e22",
   "metadata": {},
   "source": [
    "- 천잰가?"
   ]
  },
  {
   "cell_type": "markdown",
   "id": "02ab2d43",
   "metadata": {},
   "source": [
    "## 그러면 270도는?? 동일하게 3번?"
   ]
  },
  {
   "cell_type": "code",
   "execution_count": 75,
   "id": "61953e67",
   "metadata": {},
   "outputs": [
    {
     "name": "stdout",
     "output_type": "stream",
     "text": [
      "[[4, 8, 12], [3, 7, 11], [2, 6, 10], [1, 5, 9]]\n"
     ]
    }
   ],
   "source": [
    "arr = [[1, 2, 3, 4],\n",
    "       [5, 6, 7, 8],\n",
    "       [9, 10, 11, 12]]\n",
    "\n",
    "## zip\n",
    "# 시계 방향 90 (= 반시계 방향 270)\n",
    "arr_90 = list(map(list, zip(*arr[::-1])))\n",
    "arr_90 = list(map(list, zip(*arr_90[::-1])))\n",
    "arr_90 = list(map(list, zip(*arr_90[::-1])))\n",
    "print(arr_90)"
   ]
  },
  {
   "cell_type": "markdown",
   "id": "befdf097",
   "metadata": {},
   "source": [
    "- 당연히 되는거고 그럼 2개 조합하면?"
   ]
  },
  {
   "cell_type": "code",
   "execution_count": 77,
   "id": "cba668cc",
   "metadata": {},
   "outputs": [
    {
     "name": "stdout",
     "output_type": "stream",
     "text": [
      "[[4, 8, 12], [3, 7, 11], [2, 6, 10], [1, 5, 9]]\n"
     ]
    }
   ],
   "source": [
    "arr = [[1, 2, 3, 4],\n",
    "       [5, 6, 7, 8],\n",
    "       [9, 10, 11, 12]]\n",
    "# 시계 방향 180 (= 반시계 방향 180)\n",
    "arr_180 = [a[::-1] for a in arr[::-1]]\n",
    "arr_180 = list(map(list, zip(*arr_180[::-1])))\n",
    "print(arr_180)"
   ]
  },
  {
   "cell_type": "markdown",
   "id": "a405d892",
   "metadata": {},
   "source": [
    "- ㅋ"
   ]
  },
  {
   "cell_type": "code",
   "execution_count": 76,
   "id": "4fd99937",
   "metadata": {},
   "outputs": [
    {
     "name": "stdout",
     "output_type": "stream",
     "text": [
      "[[4, 8, 12], [3, 7, 11], [2, 6, 10], [1, 5, 9]]\n"
     ]
    }
   ],
   "source": [
    "arr = [[1, 2, 3, 4],\n",
    "       [5, 6, 7, 8],\n",
    "       [9, 10, 11, 12]]\n",
    "# 시계 방향 270 (= 반시계 방향 90)\n",
    "arr_270 = [x[::-1] for x in list(map(list, zip(*arr[::-1])))[::-1]]\n",
    "print(arr_270)"
   ]
  },
  {
   "cell_type": "markdown",
   "id": "7347f5a3",
   "metadata": {},
   "source": [
    "- 결국엔 90도와 180도를 1줄로 표현하면 저거겠군"
   ]
  },
  {
   "cell_type": "markdown",
   "id": "91eaf323",
   "metadata": {},
   "source": [
    "## 근데 개인적으로 zip으로 회전은 직관적이지 못해서 좀 불편하네"
   ]
  },
  {
   "cell_type": "code",
   "execution_count": 83,
   "id": "849073b2",
   "metadata": {},
   "outputs": [
    {
     "name": "stdout",
     "output_type": "stream",
     "text": [
      "[[0, 0, 0], [0, 0, 0], [0, 0, 0]]\n",
      "[[0, 0, 1], [0, 0, 0], [0, 0, 0]]\n",
      "[[0, 0, 1], [0, 0, 2], [0, 0, 0]]\n",
      "[[0, 0, 1], [0, 0, 2], [0, 0, 3]]\n",
      "[[0, 4, 1], [0, 0, 2], [0, 0, 3]]\n",
      "[[0, 4, 1], [0, 5, 2], [0, 0, 3]]\n",
      "[[0, 4, 1], [0, 5, 2], [0, 6, 3]]\n",
      "[[7, 4, 1], [0, 5, 2], [0, 6, 3]]\n",
      "[[7, 4, 1], [8, 5, 2], [0, 6, 3]]\n",
      "[[7, 4, 1], [8, 5, 2], [9, 6, 3]]\n"
     ]
    }
   ],
   "source": [
    "## 인덱싱\n",
    "arr = [[1, 2, 3],\n",
    "       [4, 5, 6],\n",
    "       [7, 8, 9]]\n",
    "n = len(arr)\n",
    "# 시계 방향 90 (= 반시계 방향 270)\n",
    "new_90 = [[0] * n for _ in range(n)]\n",
    "for i in range(n):\n",
    "    for j in range(n):\n",
    "        print(new_90)\n",
    "        new_90[j][n-i-1]= arr[i][j] # \n",
    "print(new_90)"
   ]
  },
  {
   "cell_type": "markdown",
   "id": "1274b14a",
   "metadata": {},
   "source": [
    "- 90도는 각 배열의 값들을 각각의 다른 배열 위치로 뿌려주고 (j:0~2로 반복), 인덱스는 끝에서 안쪽으로 오게끔(n-i-1: 3-1과 i로 처음엔 0으로 2가 나오면 반복문 돌면서 줄여진다) "
   ]
  },
  {
   "cell_type": "markdown",
   "id": "6110e335",
   "metadata": {},
   "source": [
    "- 옹... 그럼 180도 레쓰기릿"
   ]
  },
  {
   "cell_type": "code",
   "execution_count": 85,
   "id": "3c7070f3",
   "metadata": {},
   "outputs": [
    {
     "name": "stdout",
     "output_type": "stream",
     "text": [
      "[[0, 0, 0], [0, 0, 0], [0, 0, 0]]\n",
      "[[0, 0, 0], [0, 0, 0], [0, 0, 1]]\n",
      "[[0, 0, 0], [0, 0, 0], [0, 2, 1]]\n",
      "[[0, 0, 0], [0, 0, 0], [3, 2, 1]]\n",
      "[[0, 0, 0], [0, 0, 4], [3, 2, 1]]\n",
      "[[0, 0, 0], [0, 5, 4], [3, 2, 1]]\n",
      "[[0, 0, 0], [6, 5, 4], [3, 2, 1]]\n",
      "[[0, 0, 7], [6, 5, 4], [3, 2, 1]]\n",
      "[[0, 8, 7], [6, 5, 4], [3, 2, 1]]\n",
      "[[9, 8, 7], [6, 5, 4], [3, 2, 1]]\n"
     ]
    }
   ],
   "source": [
    "## 인덱싱\n",
    "9,8,7\n",
    "6,5,4\n",
    "3,2,1\n",
    "arr = [[1, 2, 3],\n",
    "       [4, 5, 6],\n",
    "       [7, 8, 9]]\n",
    "n = len(arr)\n",
    "new_90 = [[0] * n for _ in range(n)]\n",
    "for i in range(n):\n",
    "    for j in range(n):\n",
    "        print(new_90)\n",
    "        new_90[n-i-1][n-j-1]= arr[i][j]\n",
    "print(new_90)"
   ]
  },
  {
   "cell_type": "markdown",
   "id": "23d27c6d",
   "metadata": {},
   "source": [
    "- 180도는 배열을 역순으로 바꾸고, 값들도 연순으로 생각. [n-i-1]: 처음 들어오면 3-1-0으로 첫 배열을 맨 뒤로 보내주고 하나씩 올려준다. 값들은 [n-j-1]로 각 배열의 첫 요소를 맨뒤로보내며 점점 안쪽으로.... 결국 같은 역활하는 기능 2번 적용이다."
   ]
  },
  {
   "cell_type": "code",
   "execution_count": 87,
   "id": "61152033",
   "metadata": {},
   "outputs": [
    {
     "name": "stdout",
     "output_type": "stream",
     "text": [
      "[[0, 0, 0], [0, 0, 0], [0, 0, 0]]\n",
      "[[0, 0, 0], [0, 0, 0], [1, 0, 0]]\n",
      "[[0, 0, 0], [2, 0, 0], [1, 0, 0]]\n",
      "[[3, 0, 0], [2, 0, 0], [1, 0, 0]]\n",
      "[[3, 0, 0], [2, 0, 0], [1, 4, 0]]\n",
      "[[3, 0, 0], [2, 5, 0], [1, 4, 0]]\n",
      "[[3, 6, 0], [2, 5, 0], [1, 4, 0]]\n",
      "[[3, 6, 0], [2, 5, 0], [1, 4, 7]]\n",
      "[[3, 6, 0], [2, 5, 8], [1, 4, 7]]\n",
      "[[3, 6, 9], [2, 5, 8], [1, 4, 7]]\n"
     ]
    }
   ],
   "source": [
    "## 인덱싱\n",
    "9,8,7\n",
    "6,5,4\n",
    "3,2,1\n",
    "\n",
    "3,6,9\n",
    "2,5,8\n",
    "1,4,7\n",
    "arr = [[1, 2, 3],\n",
    "       [4, 5, 6],\n",
    "       [7, 8, 9]]\n",
    "n = len(arr)\n",
    "new_90 = [[0] * n for _ in range(n)]\n",
    "for i in range(n):\n",
    "    for j in range(n):\n",
    "        print(new_90)\n",
    "        new_90[n-j-1][i]= arr[i][j]\n",
    "print(new_90)"
   ]
  },
  {
   "cell_type": "markdown",
   "id": "864c0705",
   "metadata": {},
   "source": [
    "이건 첫 배열의 값을 0번째 인덱스로 전부 보내기위해 [n-j-1]로 각 값들이 아래에서 하나씩 올라오게끔하고, 위치는 i로 0번째 배열의 값은 0번째~ 등등 알잘딱"
   ]
  },
  {
   "cell_type": "code",
   "execution_count": 100,
   "id": "6308bc35",
   "metadata": {},
   "outputs": [
    {
     "name": "stdout",
     "output_type": "stream",
     "text": [
      "[[0, 0, 0], [0, 0, 0], [0, 0, 0], [0, 0, 0]]\n"
     ]
    },
    {
     "data": {
      "text/plain": [
       "[[9, 5, 1], [10, 6, 2], [11, 7, 3], [12, 8, 4]]"
      ]
     },
     "execution_count": 100,
     "metadata": {},
     "output_type": "execute_result"
    }
   ],
   "source": [
    "a=[[1,2,3,4],\n",
    "   [5,6,7,8],\n",
    "   [9,10,11,12]]\n",
    "\n",
    "new_arr = [[0]*len(a) for _ in range(len(a[0])) ]\n",
    "print(new_arr)\n",
    "for i in range(len(a)):\n",
    "    for j in range(len(a[0])):\n",
    "        new_arr[j][len(a)-i-1] = a[i][j]\n",
    "new_arr"
   ]
  },
  {
   "cell_type": "markdown",
   "id": "4c55b769",
   "metadata": {},
   "source": [
    "- 네이스~ 돌아가는 로직은 정사각형이랑 동일한데 그냥 반복문에 들어가는 인덱스만 신경쓰기"
   ]
  },
  {
   "cell_type": "code",
   "execution_count": 101,
   "id": "382db9ac",
   "metadata": {},
   "outputs": [
    {
     "data": {
      "text/plain": [
       "[[12, 11, 10, 9], [8, 7, 6, 5], [4, 3, 2, 1]]"
      ]
     },
     "execution_count": 101,
     "metadata": {},
     "output_type": "execute_result"
    }
   ],
   "source": [
    "a=[[1,2,3,4],\n",
    "   [5,6,7,8],\n",
    "   [9,10,11,12]]\n",
    "\n",
    "new_arr = [[0]*len(a[0]) for _ in range(len(a))]\n",
    "\n",
    "for i in range(len(a)):\n",
    "    for j in range(len(a[0])):\n",
    "        new_arr[len(a)-1-i][len(a[0])-1-j] = a[i][j]\n",
    "new_arr"
   ]
  },
  {
   "cell_type": "code",
   "execution_count": 108,
   "id": "c9c0af3d",
   "metadata": {},
   "outputs": [
    {
     "name": "stdout",
     "output_type": "stream",
     "text": [
      "[[0, 0, 0], [0, 0, 0], [0, 0, 0], [0, 0, 0]]\n"
     ]
    },
    {
     "data": {
      "text/plain": [
       "[[4, 8, 12], [3, 7, 11], [2, 6, 10], [1, 5, 9]]"
      ]
     },
     "execution_count": 108,
     "metadata": {},
     "output_type": "execute_result"
    }
   ],
   "source": [
    "a=[[1,2,3,4],\n",
    "   [5,6,7,8],\n",
    "   [9,10,11,12]]\n",
    "\n",
    "new_arr = [[0]*len(a) for _ in range(len(a[0]))]\n",
    "print(new_arr)\n",
    "for i in range(len(a)):\n",
    "    for j in range(len(a[0])):\n",
    "        new_arr[len(a[0])-1-j][i] = a[i][j]\n",
    "new_arr"
   ]
  },
  {
   "cell_type": "markdown",
   "id": "82bd4037",
   "metadata": {},
   "source": [
    "## 특정 부분만 회전 시키기"
   ]
  },
  {
   "cell_type": "code",
   "execution_count": 116,
   "id": "e528031b",
   "metadata": {},
   "outputs": [
    {
     "data": {
      "text/plain": [
       "[[1, 2, 3, 4, 5, 6, 7],\n",
       " [8, 9, 10, 11, 12, 13, 14],\n",
       " [15, 16, 31, 24, 17, 20, 21],\n",
       " [22, 23, 32, 25, 18, 27, 28],\n",
       " [29, 30, 33, 26, 19, 34, 35],\n",
       " [36, 37, 38, 39, 40, 41, 42],\n",
       " [43, 44, 45, 46, 47, 48, 49]]"
      ]
     },
     "execution_count": 116,
     "metadata": {},
     "output_type": "execute_result"
    }
   ],
   "source": [
    "arr = [[7 * j + i for i in range(1, 8)] for j in range(7)]\n",
    "new_arr = [[0] * 7 for _ in range(7)]\n",
    "sy, sx = 2, 2\n",
    "length = 3\n",
    "\n",
    "for i in range(len(arr)):\n",
    "    for j in range(len(arr[0])):\n",
    "        new_arr[j][len(arr[0])-1-i] = arr[i][j]\n",
    "\n",
    "for i in range(sy,sx+length):\n",
    "    for j in range(sx,sx+length):\n",
    "        arr[i][j] = new_arr[i][j]\n",
    "arr"
   ]
  },
  {
   "cell_type": "markdown",
   "id": "6dd68494",
   "metadata": {},
   "source": [
    "- 나는 간단하게 생각을 했다. 그냥 전체를 뒤집고 원래 돌리려던 부분만 값을 씌우면 되(그러면 위에 배운 틀을 유지하면서 기억하기 쉬우니)"
   ]
  },
  {
   "cell_type": "code",
   "execution_count": 113,
   "id": "3b6a4baf",
   "metadata": {},
   "outputs": [
    {
     "name": "stdout",
     "output_type": "stream",
     "text": [
      "[[0, 0, 0, 0, 0, 0, 0], [0, 0, 0, 0, 0, 0, 0], [0, 0, 31, 24, 17, 0, 0], [0, 0, 32, 25, 18, 0, 0], [0, 0, 33, 26, 19, 0, 0], [0, 0, 0, 0, 0, 0, 0], [0, 0, 0, 0, 0, 0, 0]]\n",
      "31\n",
      "24\n",
      "17\n",
      "32\n",
      "25\n",
      "18\n",
      "33\n",
      "26\n",
      "19\n",
      "[1, 2, 3, 4, 5, 6, 7]\n",
      "[8, 9, 10, 11, 12, 13, 14]\n",
      "[15, 16, 31, 24, 17, 20, 21]\n",
      "[22, 23, 32, 25, 18, 27, 28]\n",
      "[29, 30, 33, 26, 19, 34, 35]\n",
      "[36, 37, 38, 39, 40, 41, 42]\n",
      "[43, 44, 45, 46, 47, 48, 49]\n"
     ]
    }
   ],
   "source": [
    "# 7X7 배열\n",
    "arr = [[7 * j + i for i in range(1, 8)] for j in range(7)]\n",
    "new_arr = [[0] * 7 for _ in range(7)]\n",
    "sy, sx = 2, 2\n",
    "length = 3\n",
    "\n",
    "\n",
    "# 배열의 특정 부분(정사각형)을 회전시킴\n",
    "def rotate_90(sy, sx, length):\n",
    "    global arr, new_arr\n",
    "    # 정사각형을 시계방향으로 90도 회전\n",
    "    for y in range(sy, sy + length):\n",
    "        for x in range(sx, sx + length):\n",
    "            # 1단계 : (0,0)으로 옮겨주는 변환을 진행함\n",
    "            oy, ox = y - sy, x - sx\n",
    "            # 2단계 : 90도 회전했을때의 좌표를 구함\n",
    "            ry, rx = ox, length - oy - 1\n",
    "            # 3단계 : 다시 (sy,sx)를 더해줌\n",
    "            new_arr[sy + ry][sx + rx] = arr[y][x]\n",
    "    print(new_arr)\n",
    "    # new_arr 값을 현재 board에 옮겨줌\n",
    "    for y in range(sy, sy + length):\n",
    "        for x in range(sx, sx + length):\n",
    "            arr[y][x] = new_arr[y][x]\n",
    "            print(arr[y][x])\n",
    "\n",
    "rotate_90(sy, sx, length)\n",
    "\n",
    "for i in range(len(arr)):\n",
    "    print(arr[i])"
   ]
  },
  {
   "cell_type": "code",
   "execution_count": null,
   "id": "2f2b827b",
   "metadata": {},
   "outputs": [],
   "source": []
  }
 ],
 "metadata": {
  "kernelspec": {
   "display_name": "Python 3 (ipykernel)",
   "language": "python",
   "name": "python3"
  },
  "language_info": {
   "codemirror_mode": {
    "name": "ipython",
    "version": 3
   },
   "file_extension": ".py",
   "mimetype": "text/x-python",
   "name": "python",
   "nbconvert_exporter": "python",
   "pygments_lexer": "ipython3",
   "version": "3.9.7"
  }
 },
 "nbformat": 4,
 "nbformat_minor": 5
}
