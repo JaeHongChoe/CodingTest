{
 "cells": [
  {
   "cell_type": "code",
   "execution_count": 23,
   "id": "868b877a",
   "metadata": {},
   "outputs": [
    {
     "name": "stdout",
     "output_type": "stream",
     "text": [
      "[1, 2]\n",
      "[1, 3]\n",
      "[1, 4]\n",
      "[2, 1]\n",
      "[2, 3]\n",
      "[2, 4]\n",
      "[3, 1]\n",
      "[3, 2]\n",
      "[3, 4]\n",
      "[4, 1]\n",
      "[4, 2]\n",
      "[4, 3]\n"
     ]
    }
   ],
   "source": [
    "arr = [1, 2, 3, 4]\n",
    "visited = [0] * len(arr)  # visited도 전역으로 둬도 됨\n",
    "\n",
    "\n",
    "def permutations(n, new_arr):\n",
    "    global arr\n",
    "    # 순서 상관 0, 중복 X\n",
    "    if len(new_arr) == n:\n",
    "        print(new_arr)\n",
    "        return\n",
    "    for i in range(len(arr)):\n",
    "        if not visited[i]:\n",
    "            visited[i] = 1\n",
    "            permutations(n, new_arr + [arr[i]])\n",
    "            visited[i] = 0\n",
    "\n",
    "\n",
    "permutations(2, [])"
   ]
  },
  {
   "cell_type": "code",
   "execution_count": 37,
   "id": "9e1b098c",
   "metadata": {},
   "outputs": [
    {
     "name": "stdout",
     "output_type": "stream",
     "text": [
      "[1, 2]\n",
      "[1, 3]\n",
      "[1, 4]\n",
      "[2, 1]\n",
      "[2, 3]\n",
      "[2, 4]\n",
      "[3, 1]\n",
      "[3, 2]\n",
      "[3, 4]\n",
      "[4, 1]\n",
      "[4, 2]\n",
      "[4, 3]\n"
     ]
    }
   ],
   "source": [
    "arr = [1, 2, 3, 4]\n",
    "visited = [0] * len(arr)  # visited도 전역으로 둬도 됨\n",
    "\n",
    "def permutations(n, new_arr):\n",
    "    \n",
    "    if len(new_arr) ==n:\n",
    "        print(new_arr)\n",
    "        return\n",
    "    for i in range(len(arr)):\n",
    "        if not visited[i]:\n",
    "#             print(visited)\n",
    "            visited[i] =1\n",
    "            permutations(n, new_arr+[arr[i]])\n",
    "            visited[i] =0\n",
    "\n",
    "permutations(2, [])"
   ]
  },
  {
   "cell_type": "code",
   "execution_count": 9,
   "id": "66d34fdc",
   "metadata": {},
   "outputs": [
    {
     "name": "stdout",
     "output_type": "stream",
     "text": [
      "[1, 1]\n",
      "[1, 2]\n",
      "[1, 3]\n",
      "[1, 4]\n",
      "[2, 1]\n",
      "[2, 2]\n",
      "[2, 3]\n",
      "[2, 4]\n",
      "[3, 1]\n",
      "[3, 2]\n",
      "[3, 3]\n",
      "[3, 4]\n",
      "[4, 1]\n",
      "[4, 2]\n",
      "[4, 3]\n",
      "[4, 4]\n"
     ]
    }
   ],
   "source": [
    "arr = [1, 2, 3, 4]\n",
    "def product(n, new_arr):\n",
    "    global arr\n",
    "    # 순서 상관 0, 중복 0\n",
    "    if len(new_arr) == n:\n",
    "        print(new_arr)\n",
    "        return\n",
    "    for i in range(len(arr)):\n",
    "        product(n, new_arr + [arr[i]])\n",
    "\n",
    "product(2, [])"
   ]
  },
  {
   "cell_type": "code",
   "execution_count": 38,
   "id": "39b9fc14",
   "metadata": {},
   "outputs": [
    {
     "name": "stdout",
     "output_type": "stream",
     "text": [
      "[1, 1]\n",
      "[1, 2]\n",
      "[1, 3]\n",
      "[1, 4]\n",
      "[2, 1]\n",
      "[2, 2]\n",
      "[2, 3]\n",
      "[2, 4]\n",
      "[3, 1]\n",
      "[3, 2]\n",
      "[3, 3]\n",
      "[3, 4]\n",
      "[4, 1]\n",
      "[4, 2]\n",
      "[4, 3]\n",
      "[4, 4]\n"
     ]
    }
   ],
   "source": [
    "arr = [1, 2, 3, 4]\n",
    "\n",
    "def product(n,new_arr):\n",
    "    if len(new_arr) == n:\n",
    "        print(new_arr)\n",
    "        return\n",
    "    for i in range(len(arr)):\n",
    "        product(n, new_arr+[arr[i]])\n",
    "product(2,[])"
   ]
  },
  {
   "cell_type": "code",
   "execution_count": 12,
   "id": "b71c3fd6",
   "metadata": {},
   "outputs": [
    {
     "name": "stdout",
     "output_type": "stream",
     "text": [
      "[1, 2]\n",
      "[1, 3]\n",
      "[1, 4]\n",
      "[2, 3]\n",
      "[2, 4]\n",
      "[3, 4]\n"
     ]
    }
   ],
   "source": [
    "arr = [1, 2, 3, 4]\n",
    "\n",
    "# 현재 인덱스 +1 만큼을 매개변수로 계속 넘겨주어야함\n",
    "# 순서가 상관없고 중복 불가이기 때문에 현재 인덱스보다 같거나 작은 인덱스는 볼 필요가 없기 때문\n",
    "def combinations(n, new_arr, c):\n",
    "    # 순서 상관 X, 중복 X\n",
    "    if len(new_arr) == n:\n",
    "        print(new_arr)\n",
    "        return\n",
    "    for i in range(c, len(arr)):\n",
    "        combinations(n, new_arr + [arr[i]], i + 1)\n",
    "\n",
    "\n",
    "combinations(2, [], 0)"
   ]
  },
  {
   "cell_type": "code",
   "execution_count": 48,
   "id": "1bd2005b",
   "metadata": {},
   "outputs": [
    {
     "name": "stdout",
     "output_type": "stream",
     "text": [
      "[1, 1]\n",
      "[1, 2]\n",
      "[1, 3]\n",
      "[1, 4]\n",
      "[2, 2]\n",
      "[2, 3]\n",
      "[2, 4]\n",
      "[3, 3]\n",
      "[3, 4]\n",
      "[4, 4]\n"
     ]
    }
   ],
   "source": [
    "arr = [1, 2, 3, 4]\n",
    "\n",
    "def combinations(n,new_arr,c):\n",
    "    if len(new_arr) == n:\n",
    "        print(new_arr)\n",
    "        return\n",
    "    for i in range(c, len(arr)):\n",
    "        combinations(n,new_arr+[arr[i]],c+i)\n",
    "    \n",
    "combinations(2,[],0)"
   ]
  },
  {
   "cell_type": "code",
   "execution_count": 13,
   "id": "e19d5469",
   "metadata": {},
   "outputs": [
    {
     "name": "stdout",
     "output_type": "stream",
     "text": [
      "[1, 1]\n",
      "[1, 2]\n",
      "[1, 3]\n",
      "[1, 4]\n",
      "[2, 2]\n",
      "[2, 3]\n",
      "[2, 4]\n",
      "[3, 3]\n",
      "[3, 4]\n",
      "[4, 4]\n"
     ]
    }
   ],
   "source": [
    "arr = [1, 2, 3, 4]\n",
    "\n",
    "def combinations_with_replacement(n, new_arr, c):\n",
    "    # 순서 상관 X, 중복\n",
    "    if len(new_arr) == n:\n",
    "        print(new_arr)\n",
    "        return\n",
    "    for i in range(c, len(arr)):\n",
    "        combinations(n, new_arr + [arr[i]], i)\n",
    "\n",
    "\n",
    "combinations_with_replacement(2, [], 0)"
   ]
  },
  {
   "cell_type": "code",
   "execution_count": null,
   "id": "9790ae4e",
   "metadata": {},
   "outputs": [],
   "source": []
  }
 ],
 "metadata": {
  "kernelspec": {
   "display_name": "Python 3 (ipykernel)",
   "language": "python",
   "name": "python3"
  },
  "language_info": {
   "codemirror_mode": {
    "name": "ipython",
    "version": 3
   },
   "file_extension": ".py",
   "mimetype": "text/x-python",
   "name": "python",
   "nbconvert_exporter": "python",
   "pygments_lexer": "ipython3",
   "version": "3.9.7"
  }
 },
 "nbformat": 4,
 "nbformat_minor": 5
}
